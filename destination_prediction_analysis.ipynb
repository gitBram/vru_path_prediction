{
 "cells": [
  {
   "cell_type": "code",
   "execution_count": 1,
   "source": [
    "'''\n",
    "What I need to do...\n",
    "1. Collect all paths that end near to one of the destination points (load destinations from xml)\n",
    "2. Get a way to use x% (x steps?) of the data, also to create a tf data set of it (one hot encoded output vector) and to do mass graph predictions\n",
    "3. Get the metrics results for both graph (trained on all data) and some LSTM classification implementation\n",
    "'''\n"
   ],
   "outputs": [
    {
     "output_type": "execute_result",
     "data": {
      "text/plain": [
       "'\\nWhat I need to do...\\n1. Collect all paths that end near to one of the destination points (load destinations from xml)\\n2. Get a way to use x% (x steps?) of the data, also to create a tf data set of it (one hot encoded output vector) and to do mass graph predictions\\n3. Get the metrics results for both graph (trained on all data) and some LSTM classification implementation\\n'"
      ]
     },
     "metadata": {},
     "execution_count": 1
    }
   ],
   "metadata": {}
  },
  {
   "cell_type": "code",
   "execution_count": 2,
   "source": [
    "%load_ext autoreload\n",
    "%autoreload 2\n",
    "\n",
    "import os, sys\n",
    "from helpers.highlevel_sceneloader import HighLevelSceneLoader\n",
    "from predictors.dataset_creator import TFDataSet\n",
    "import tensorflow as tf\n",
    "from predictors.dl_trainer import DLTrainer \n",
    "from predictors.extended_predictor import extended_predictor \n",
    "import matplotlib.pyplot as plt\n",
    "import pickle\n",
    "from helpers.graph import Graph\n",
    "import numpy as np\n",
    "import math\n",
    "import pandas as pd\n",
    "\n",
    "import warnings\n",
    "warnings.filterwarnings('ignore')\n",
    "import collections\n",
    "\n",
    "from keras.layers import Dense, LSTM, Reshape, InputLayer, Flatten, Concatenate, Dropout, Concatenate, Input\n"
   ],
   "outputs": [],
   "metadata": {}
  },
  {
   "cell_type": "markdown",
   "source": [
    "# Collect the paths that end x meters from a destination"
   ],
   "metadata": {}
  },
  {
   "cell_type": "code",
   "execution_count": 3,
   "source": [
    "''' set some parameters '''\n",
    "# Model parameters\n",
    "LSTM_LAYER_SIZE = 64\n",
    "DENSE_LAYER_SIZE = 128\n",
    "NUM_LSTM_LAYERS = 2\n",
    "NUM_DENSE_LAYERS = 2\n",
    "VARIABLE_INPUT_LENGTH = False\n",
    "\n",
    "# Dataset\n",
    "SEQ_IN_LEN = 3\n",
    "SEQ_OUT_LEN = 5\n",
    "NOISE_STD = .3\n",
    "N_REPEATS = 1\n",
    "\n",
    "BATCH_SIZE = 5\n",
    "LENGTH_STRIDE = 2\n",
    "\n",
    "\n",
    "# Training parameters\n",
    "MAX_EPOCHS = 100\n",
    "PATIENCE = 4\n",
    "\n",
    "# For graph\n",
    "GRAPH_DIST_THRESH = 4\n",
    "\n",
    "''' get the data '''\n",
    "ROOT = os.getcwd()\n",
    "\n",
    "rel_p_img_b = 'helpers/analysed_vars_storage/img_bounds.xml'\n",
    "rel_p_dests = 'helpers/analysed_vars_storage/destination_locations.xml'\n",
    "p_img_bounds = os.path.join(ROOT, rel_p_img_b)\n",
    "p_dest_locs = os.path.join(ROOT, rel_p_dests)\n",
    "\n",
    "#TODO: older version of OpenTraj needed: \"git checkout d249ba6951dd0f54b532fbe2ca6edc46b0d7093f\"\n",
    "opentraj_root = os.path.join(ROOT, 'OpenTraj')\n",
    "root_datasets = os.path.join(ROOT, 'data/path_data')\n",
    "sys.path.append(opentraj_root) # add package to pythonpath\n",
    "\n",
    "scene_data = HighLevelSceneLoader(p_img_bounds, p_dest_locs)\n",
    "scene_data.load_ind(root_datasets, 7, 17)"
   ],
   "outputs": [
    {
     "output_type": "stream",
     "name": "stdout",
     "text": [
      "x_min\n",
      "4.\n",
      "y_min\n",
      "-75.\n",
      "x_max\n",
      "110.\n",
      "y_max\n",
      "-2.\n",
      "x_min\n",
      "4.\n",
      "y_min\n",
      "-75.\n",
      "x_max\n",
      "110.\n",
      "y_max\n",
      "-2.\n",
      "Index 8 and length 3147\n",
      "Index 9 and length 3982\n",
      "Index 10 and length 4808\n",
      "Index 11 and length 6069\n",
      "Index 12 and length 8230\n",
      "Index 13 and length 10002\n",
      "Index 14 and length 12038\n",
      "Index 15 and length 13448\n",
      "Index 16 and length 16217\n",
      "Index 17 and length 18106\n"
     ]
    }
   ],
   "metadata": {}
  },
  {
   "cell_type": "code",
   "execution_count": 4,
   "source": [
    "# get list of path ids that end near to destination\n",
    "def find_paths_near_destination(paths_df, destinations_mat, max_distance, id_col_name=\"agent_id\"):\n",
    "    id_list = []\n",
    "    label_list = []\n",
    "    for i in paths_df[id_col_name].unique():\n",
    "        path_dest = np.squeeze(paths_df.loc[paths_df[id_col_name] == i].tail(1)[[\"pos_x\", \"pos_y\"]].to_numpy())\n",
    "        min_dist = 999.\n",
    "        min_dest_id = -1\n",
    "        for graph_dest, dest_id in zip(destinations_mat, range(len(destinations_mat))):\n",
    "            dist = math.sqrt((path_dest[0]-graph_dest[0])**2+(path_dest[1]-graph_dest[1])**2)\n",
    "\n",
    "            if dist < min_dist:\n",
    "                min_dist = dist\n",
    "                min_dest_id = dest_id\n",
    "        if min_dist < max_distance:\n",
    "            label_list.append([i, min_dest_id])  \n",
    "        else:\n",
    "            label_list.append([i, -1])  \n",
    "    return np.array(label_list)\n",
    "\n",
    "\n"
   ],
   "outputs": [],
   "metadata": {}
  },
  {
   "cell_type": "code",
   "execution_count": 5,
   "source": [
    "# Get data frame where x% of each wanted path is included\n",
    "def return_x_percent_of_paths(paths_df, percentage, path_ids = None, id_col_name=\"agent_id\"):\n",
    "    paths_df_c = paths_df.copy()\n",
    "    if path_ids is not None:\n",
    "        paths_df_c = paths_df_c[paths_df_c[id_col_name].isin(path_ids)]\n",
    "    \n",
    "    shortened_df = pd.DataFrame(columns=paths_df_c.columns)\n",
    "    for i in paths_df[id_col_name].unique():\n",
    "        path_df = paths_df_c.loc[paths_df_c[id_col_name] == i]\n",
    "        length = len(path_df)\n",
    "        path_df = path_df[:math.ceil(length*percentage)]\n",
    "        shortened_df = shortened_df.append(path_df)\n",
    "\n",
    "    return shortened_df"
   ],
   "outputs": [],
   "metadata": {}
  },
  {
   "cell_type": "markdown",
   "source": [
    "# Get metrics results"
   ],
   "metadata": {}
  },
  {
   "cell_type": "markdown",
   "source": [
    "## Metrics calculators"
   ],
   "metadata": {}
  },
  {
   "cell_type": "code",
   "execution_count": 19,
   "source": [
    "''' Average destination prob of label and n next most likely '''\n",
    "def avg_top_probs(label_matrix, ordered_destinations, ordered_destination_probs):\n",
    "    sum_matrix = None\n",
    "    for label_row in label_matrix:\n",
    "        # get path_id and label\n",
    "        path_id = label_row[0]\n",
    "        label = label_row[1]\n",
    "\n",
    "        # get the according vectors\n",
    "        ordered_pred_dests = np.squeeze(ordered_destinations[path_id])\n",
    "        old_prob_vector = np.squeeze(ordered_destination_probs[path_id])\n",
    "\n",
    "        # Initiate the sum matrix\n",
    "        if sum_matrix is None:\n",
    "            sum_matrix = np.zeros_like(old_prob_vector)\n",
    "\n",
    "        # Get the id of label (basically on which position it was guessed)\n",
    "        index = np.where(ordered_pred_dests==label)[0][0]\n",
    "        \n",
    "        new_prob_vector = np.hstack([old_prob_vector[index], np.delete(old_prob_vector, index)])\n",
    "\n",
    "        sum_matrix = sum_matrix + new_prob_vector\n",
    "    \n",
    "    return sum_matrix/len(label_matrix)"
   ],
   "outputs": [],
   "metadata": {}
  },
  {
   "cell_type": "code",
   "execution_count": 142,
   "source": [
    "''' Percentage of predictions that has label in top n predictions '''\n",
    "def in_top_n_kpi(label_matrix, top_n_pred_dict, n):\n",
    "    assert len(label_matrix) == len(top_n_pred_dict)\n",
    "    total_predictions = len(label_matrix)\n",
    "    correct_predictions = 0\n",
    "    for label_row in label_matrix:\n",
    "        path_id = label_row[0]\n",
    "        label = label_row[1]\n",
    "\n",
    "        # print(\"%d in list %s: %s\" % (label, top_n_pred_dict[path_id],label in top_n_pred_dict[path_id]))\n",
    "\n",
    "        if label in np.squeeze(top_n_pred_dict[path_id])[:n]:\n",
    "            correct_predictions += 1\n",
    "\n",
    "    return correct_predictions/total_predictions*100"
   ],
   "outputs": [],
   "metadata": {}
  },
  {
   "cell_type": "markdown",
   "source": [
    "## Data set and labels preparation"
   ],
   "metadata": {}
  },
  {
   "cell_type": "code",
   "execution_count": 8,
   "source": [
    "# Generate labels for the paths and discard paths that do not end near to a destination\n",
    "label_matrix = find_paths_near_destination(scene_data.traj_dataframe, scene_data.destination_matrix, 4, \"agent_id\")\n",
    "label_matrix = label_matrix[label_matrix[:,1]!=-1]\n",
    "\n",
    "# Extract paths that have a label, shorten them to test effect of only having x% of the path on destination prediction\n",
    "shortened_df = return_x_percent_of_paths(scene_data.traj_dataframe, .6, path_ids = label_matrix[:,0])"
   ],
   "outputs": [],
   "metadata": {}
  },
  {
   "cell_type": "markdown",
   "source": [
    "## LSTM Approach\n",
    "Using an lstm for classifying the paths as one of the destination clusters.\n",
    "We need probabilities at output for doing top n KPI etc.\n",
    "\n",
    "1. Create Data Set (train-test-val-split)\n",
    "2. Create Network\n",
    "3. Train network\n",
    "4. Do predictions to format that can be used in existing KPI functions"
   ],
   "metadata": {}
  },
  {
   "cell_type": "markdown",
   "source": [
    "### Creating data sets and training model"
   ],
   "metadata": {}
  },
  {
   "cell_type": "code",
   "execution_count": 128,
   "source": [
    "''' Create the data sets '''\n",
    "\n",
    "def create_dataset(df, labels_mat, num_dests, id_col_name = \"agent_id\"):\n",
    "\n",
    "    # # split the labels mat into train val test\n",
    "    # num_paths = len(labels_mat)\n",
    "    # num_train = math.ceil(train_perc*num_paths)\n",
    "    # num_val = math.ceil(val_perc*num_paths)\n",
    "    \n",
    "    # labels_mat_list = []\n",
    "    # labels_mat_list = [labels_mat[:num_train, :], labels_mat[num_train:num_train+num_val,:], labels_mat[num_train+num_val:,:]]\n",
    "    # print(\"Num train %s and num val %s and num test %s\"%(len(labels_mat_list[0]), len(labels_mat_list[1]), len(labels_mat_list[2])))\n",
    "    # # for each of the splits, create a data set\n",
    "\n",
    "    # ds_out_list = []\n",
    "\n",
    "\n",
    "    # For each path in the data set\n",
    "    ds_list = []\n",
    "    for row in labels_mat:  \n",
    "        # get path id and according label\n",
    "        path_id = row[0]\n",
    "        label = row[1]\n",
    "\n",
    "        # get full path and one hot label in tf format\n",
    "        path = df[df[id_col_name]==path_id][[\"pos_x\", \"pos_y\"]].to_numpy()\n",
    "        path = tf.constant(path, dtype=tf.float32)   \n",
    "        label_one_hot = tf.squeeze(tf.one_hot(\n",
    "                    [label], num_dests, on_value=None, off_value=None, axis=None, dtype=tf.float32, name=None\n",
    "                ))\n",
    "        # add combo to data set\n",
    "        ds_list.append((path, label_one_hot))\n",
    "\n",
    "    output_signature=(\n",
    "    tf.TensorSpec(shape=(None, 2), dtype=tf.float32),\n",
    "    tf.TensorSpec(shape=(num_dests), dtype=tf.float32))\n",
    "\n",
    "    dataset = tf.data.Dataset.from_generator(lambda: ds_list, output_signature=output_signature)\n",
    "    dataset = dataset.shuffle(10).batch(1)\n",
    "    return dataset\n"
   ],
   "outputs": [],
   "metadata": {}
  },
  {
   "cell_type": "code",
   "execution_count": 10,
   "source": [
    "''' Create the prediction model '''\n",
    "def create_classification_model(num_lstm_layers, num_dense_layers, lstm_size, dense_size, num_destinations):\n",
    "    m_input = Input(shape=(None, 2), name=\"input\")\n",
    "\n",
    "    # Add LSTM layers\n",
    "    m = LSTM(lstm_size, return_sequences=True)(m_input)\n",
    "    for i in range(num_lstm_layers - 2):\n",
    "        m = LSTM(lstm_size, return_sequences=True)(m)\n",
    "    m = LSTM(lstm_size, return_sequences=False)(m)\n",
    "\n",
    "    # Add dense layers\n",
    "    for i in range(max(num_dense_layers - 1, 0)):\n",
    "        m = Dense(dense_size)(m)\n",
    "    \n",
    "    m_output = Dense(num_destinations, kernel_initializer=tf.initializers.random_uniform,\n",
    "    activation=tf.keras.activations.softmax)(m)\n",
    "    \n",
    "    model = tf.keras.Model(\n",
    "        [m_input],\n",
    "        [m_output]\n",
    "    )\n",
    "\n",
    "    return model\n",
    "\n"
   ],
   "outputs": [
    {
     "output_type": "stream",
     "name": "stdout",
     "text": [
      "Model: \"model\"\n",
      "_________________________________________________________________\n",
      "Layer (type)                 Output Shape              Param #   \n",
      "=================================================================\n",
      "Total params: 59,657\n",
      "Trainable params: 59,657\n",
      "Non-trainable params: 0\n",
      "_________________________________________________________________\n"
     ]
    }
   ],
   "metadata": {}
  },
  {
   "cell_type": "code",
   "execution_count": 12,
   "source": [
    "''' Train classification network '''\n",
    "def compile_and_fit(train_ds, val_ds, model, save_path = None, max_epochs = 30, patience = 3):\n",
    "    early_stopping = tf.keras.callbacks.EarlyStopping(monitor='val_loss',\n",
    "                                                    patience=patience,\n",
    "                                                    mode='min',\n",
    "                                                    restore_best_weights=True)\n",
    "    \n",
    "    checkpoint = tf.keras.callbacks.ModelCheckpoint(save_path, monitor='val_loss', verbose=1,\n",
    "    save_best_only=True, mode='auto', period=1, save_weights_only=True)\n",
    "\n",
    "    model.compile(loss='categorical_crossentropy',\n",
    "                optimizer='adam',\n",
    "                metrics=['accuracy'])\n",
    "    cb = [early_stopping, checkpoint]\n",
    "\n",
    "    history = model.fit(train_ds, epochs=max_epochs,\n",
    "                        validation_data=val_ds,\n",
    "                        callbacks=cb)    \n",
    "\n",
    "    return history\n",
    "\n",
    "save_path=\"data/model_weights/checkpoints/classifier/cp1.ckpt\""
   ],
   "outputs": [
    {
     "output_type": "stream",
     "name": "stdout",
     "text": [
      "WARNING:tensorflow:`period` argument is deprecated. Please use `save_freq` to specify the frequency in number of batches seen.\n",
      "Epoch 1/30\n",
      "1161/1161 [==============================] - 23s 16ms/step - loss: 1.4733 - accuracy: 0.4729 - val_loss: 0.9193 - val_accuracy: 0.7183\n",
      "\n",
      "Epoch 00001: val_loss improved from inf to 0.91929, saving model to data/model_weights/checkpoints/classifier/cp1.ckpt\n",
      "Epoch 2/30\n",
      "1161/1161 [==============================] - 20s 17ms/step - loss: 0.7373 - accuracy: 0.7519 - val_loss: 0.7077 - val_accuracy: 0.7700\n",
      "\n",
      "Epoch 00002: val_loss improved from 0.91929 to 0.70767, saving model to data/model_weights/checkpoints/classifier/cp1.ckpt\n",
      "Epoch 3/30\n",
      "1161/1161 [==============================] - 16s 14ms/step - loss: 0.5995 - accuracy: 0.8122 - val_loss: 0.6208 - val_accuracy: 0.7855\n",
      "\n",
      "Epoch 00003: val_loss improved from 0.70767 to 0.62080, saving model to data/model_weights/checkpoints/classifier/cp1.ckpt\n",
      "Epoch 4/30\n",
      "1161/1161 [==============================] - 17s 15ms/step - loss: 0.5253 - accuracy: 0.8260 - val_loss: 0.6316 - val_accuracy: 0.8217\n",
      "\n",
      "Epoch 00004: val_loss did not improve from 0.62080\n",
      "Epoch 5/30\n",
      "1161/1161 [==============================] - 16s 14ms/step - loss: 0.4683 - accuracy: 0.8458 - val_loss: 0.5574 - val_accuracy: 0.7829\n",
      "\n",
      "Epoch 00005: val_loss improved from 0.62080 to 0.55743, saving model to data/model_weights/checkpoints/classifier/cp1.ckpt\n",
      "Epoch 6/30\n",
      "1161/1161 [==============================] - 17s 14ms/step - loss: 0.4196 - accuracy: 0.8622 - val_loss: 0.4204 - val_accuracy: 0.8527\n",
      "\n",
      "Epoch 00006: val_loss improved from 0.55743 to 0.42035, saving model to data/model_weights/checkpoints/classifier/cp1.ckpt\n",
      "Epoch 7/30\n",
      "1161/1161 [==============================] - 17s 15ms/step - loss: 0.3621 - accuracy: 0.8837 - val_loss: 0.3404 - val_accuracy: 0.8760\n",
      "\n",
      "Epoch 00007: val_loss improved from 0.42035 to 0.34039, saving model to data/model_weights/checkpoints/classifier/cp1.ckpt\n",
      "Epoch 8/30\n",
      "1161/1161 [==============================] - 17s 14ms/step - loss: 0.3464 - accuracy: 0.8880 - val_loss: 0.3857 - val_accuracy: 0.8837\n",
      "\n",
      "Epoch 00008: val_loss did not improve from 0.34039\n",
      "Epoch 9/30\n",
      "1161/1161 [==============================] - 19s 16ms/step - loss: 0.3229 - accuracy: 0.8906 - val_loss: 0.2906 - val_accuracy: 0.9018\n",
      "\n",
      "Epoch 00009: val_loss improved from 0.34039 to 0.29056, saving model to data/model_weights/checkpoints/classifier/cp1.ckpt\n",
      "Epoch 10/30\n",
      "1161/1161 [==============================] - 17s 15ms/step - loss: 0.3093 - accuracy: 0.8975 - val_loss: 0.2458 - val_accuracy: 0.9199\n",
      "\n",
      "Epoch 00010: val_loss improved from 0.29056 to 0.24585, saving model to data/model_weights/checkpoints/classifier/cp1.ckpt\n",
      "Epoch 11/30\n",
      "1161/1161 [==============================] - 16s 14ms/step - loss: 0.2718 - accuracy: 0.9121 - val_loss: 0.3676 - val_accuracy: 0.8605\n",
      "\n",
      "Epoch 00011: val_loss did not improve from 0.24585\n",
      "Epoch 12/30\n",
      "1161/1161 [==============================] - 19s 17ms/step - loss: 0.2707 - accuracy: 0.9044 - val_loss: 0.3113 - val_accuracy: 0.8941\n",
      "\n",
      "Epoch 00012: val_loss did not improve from 0.24585\n",
      "Epoch 13/30\n",
      "1161/1161 [==============================] - 21s 18ms/step - loss: 0.2709 - accuracy: 0.9070 - val_loss: 0.5036 - val_accuracy: 0.8295\n",
      "\n",
      "Epoch 00013: val_loss did not improve from 0.24585\n"
     ]
    }
   ],
   "metadata": {}
  },
  {
   "cell_type": "markdown",
   "source": [
    "### Getting ordered top n predictions"
   ],
   "metadata": {}
  },
  {
   "cell_type": "code",
   "execution_count": 42,
   "source": [
    "# Get ordered dictionaries with path id as key and ordered predictions as value for neural network\n",
    "\n",
    "def get_ordered_predictions_nn(model, test_ds):\n",
    "    label_list = []\n",
    "    dest_pred_dict = dict()\n",
    "    dest_pred_probs_dict = dict()\n",
    "\n",
    "    index = 0 # let's keep some example index for keeping track of label-prediction combination\n",
    "    for inp, lbl in iter(test_ds):\n",
    "        # add label to the matrix after converting one hot vector back\n",
    "        lbl = np.squeeze(lbl)\n",
    "        label_list.append([index, np.where(lbl>0)[0][0]])\n",
    "\n",
    "        # do a prediction\n",
    "        prediction = model(inp)\n",
    "\n",
    "        # order the prediction result\n",
    "        ordered_ids = np.array(tf.argsort(prediction, direction=\"DESCENDING\"))\n",
    "        ordered_probs = np.array(tf.sort(prediction, direction=\"DESCENDING\"))\n",
    "\n",
    "        # add to the dict\n",
    "        dest_pred_dict[index] = ordered_ids\n",
    "        dest_pred_probs_dict[index] = ordered_probs\n",
    "\n",
    "        index += 1         \n",
    "\n",
    "    return dest_pred_dict, dest_pred_probs_dict, np.array(label_list)"
   ],
   "outputs": [],
   "metadata": {}
  },
  {
   "cell_type": "markdown",
   "source": [
    "## Graph approach"
   ],
   "metadata": {}
  },
  {
   "cell_type": "markdown",
   "source": [
    "### Creating the graphs"
   ],
   "metadata": {}
  },
  {
   "cell_type": "code",
   "execution_count": 131,
   "source": [
    "def __return_waypoints_ind():\n",
    "    d = np.array([\n",
    "    [ 65, -36],\n",
    "    [ 56, -21],\n",
    "    [ 66, -46],\n",
    "    [ 58, -48],\n",
    "    [ 67, -29],\n",
    "    [ 61, -16],\n",
    "    [ 45, -32],\n",
    "    [ 71, -43],\n",
    "    # [ 80, -52],\n",
    "    # [ 68, -58],\n",
    "    [ 65, -54],\n",
    "    [ 48, -20],\n",
    "    [ 64, -21],\n",
    "    [ 46, -14]])\n",
    "    return d"
   ],
   "outputs": [],
   "metadata": {}
  },
  {
   "cell_type": "code",
   "execution_count": 15,
   "source": [
    "''' create the graph instances '''    \n",
    "interest_points = __return_waypoints_ind()\n",
    "g = Graph.from_matrices(interest_points, scene_data.destination_matrix, GRAPH_DIST_THRESH, .05)\n",
    "\n",
    "df_signals = scene_data.df_to_lst_realxy_mats()\n",
    "g.analyse_multiple_full_signals(df_signals, add_to_trams_mat=True)\n",
    "g.recalculate_trans_mat_dependencies()\n",
    "my_graph = g.create_graph(.05)\n",
    "g.visualize_graph(my_graph, \"thegraph.png\", scene_loader=scene_data)"
   ],
   "outputs": [
    {
     "output_type": "display_data",
     "data": {
      "text/plain": [
       "<Figure size 432x288 with 1 Axes>"
      ],
      "image/png": "[encoded data removed]"
     },
     "metadata": {}
    }
   ],
   "metadata": {}
  },
  {
   "cell_type": "code",
   "execution_count": 16,
   "source": [
    "''' create the graph instance '''    \n",
    "bound_dict = scene_data.img_bound_dict[('ind', str(11))]\n",
    "bounds = [bound_dict['x_min'], bound_dict['x_max'], bound_dict['y_min'], bound_dict['y_max']]\n",
    "g_grid = Graph.from_grid(scene_data.destination_matrix, bounds, 7, GRAPH_DIST_THRESH, .05, keep_orig_dest_loc=True)\n",
    "\n",
    "df_signals = scene_data.df_to_lst_realxy_mats()\n",
    "g_grid.analyse_multiple_full_signals(df_signals, add_to_trams_mat=True)\n",
    "\n",
    "used_wps, used_dests = g_grid.get_used_nodes()\n",
    "\n",
    "# Now create new graph with only the used nodes\n",
    "g_grid = Graph.from_matrices(used_wps, used_dests, GRAPH_DIST_THRESH, 0.05) \n",
    "g_grid.analyse_multiple_full_signals(df_signals, add_to_trams_mat=True)\n",
    "g_grid.recalculate_trans_mat_dependencies()\n",
    "\n",
    "# Some visiualization\n",
    "my_graph = g_grid.create_graph(.05)\n",
    "g_grid.visualize_graph(my_graph, \"thegraph_grid3.png\", scene_loader=scene_data)"
   ],
   "outputs": [
    {
     "output_type": "display_data",
     "data": {
      "text/plain": [
       "<Figure size 432x288 with 1 Axes>"
      ],
      "image/png": "[encoded data removed]"
     },
     "metadata": {}
    }
   ],
   "metadata": {}
  },
  {
   "cell_type": "markdown",
   "source": [
    "### Calculating the destinations predicted by the graph"
   ],
   "metadata": {}
  },
  {
   "cell_type": "code",
   "execution_count": 151,
   "source": [
    "def get_top_n_graph_predictions(paths_df, g, n_dests_returned, id_col_name = \"agent_id\"):\n",
    "    ''' Get for a paths df the n top predictions for each  path doe by the graph'''\n",
    "    dest_pred_dict = dict()\n",
    "    dest_pred_probs_dict = dict()\n",
    "    for i in paths_df[id_col_name].unique():\n",
    "        path = np.squeeze(paths_df.loc[paths_df[id_col_name] == i][[\"pos_x\", \"pos_y\"]].to_numpy())\n",
    "        # Do prediction for each shortened path\n",
    "        nodes, _ = g.analyse_full_signal(path, False, allow_out_of_threshold = True)\n",
    "        top_dests, top_dests_prob = g.return_n_most_likely_points(n_dests_returned, nodes, return_type=\"indices\")\n",
    "        # Get the 3 most probable destinations and return them as list in a dict with path id\n",
    "        dest_pred_dict[i]=top_dests\n",
    "        dest_pred_probs_dict[i]=top_dests_prob\n",
    "    return dest_pred_dict, dest_pred_probs_dict\n"
   ],
   "outputs": [],
   "metadata": {}
  },
  {
   "cell_type": "markdown",
   "source": [
    "## Calculate overall results"
   ],
   "metadata": {}
  },
  {
   "cell_type": "markdown",
   "source": [
    "## Neural Network"
   ],
   "metadata": {}
  },
  {
   "cell_type": "code",
   "execution_count": 129,
   "source": [
    "# Create data sets\n",
    "train_perc = .7\n",
    "test_perc = .2\n",
    "val_perc = .1\n",
    "\n",
    "num_paths = len(label_matrix)\n",
    "num_train = math.ceil(num_paths*train_perc)\n",
    "num_test = math.ceil(num_paths*test_perc)\n",
    "\n",
    "lbl_mat_train = label_matrix[:num_train]\n",
    "lbl_mat_test = label_matrix[num_train:num_train+num_test]\n",
    "lbl_mat_val = label_matrix[num_train+num_test:]\n",
    "\n",
    "ds_train = create_dataset(shortened_df, lbl_mat_train, len(scene_data.destination_matrix))\n",
    "ds_test = create_dataset(shortened_df, lbl_mat_test, len(scene_data.destination_matrix))\n",
    "ds_val = create_dataset(shortened_df, lbl_mat_val, len(scene_data.destination_matrix))\n"
   ],
   "outputs": [],
   "metadata": {}
  },
  {
   "cell_type": "code",
   "execution_count": 122,
   "source": [
    "# Create Model and train\n",
    "mod = create_classification_model(2, 2, 64, 128, 9)\n",
    "hist = compile_and_fit(ds_train, val_ds, mod, save_path= save_path)"
   ],
   "outputs": [
    {
     "output_type": "stream",
     "name": "stdout",
     "text": [
      "WARNING:tensorflow:`period` argument is deprecated. Please use `save_freq` to specify the frequency in number of batches seen.\n",
      "Epoch 1/30\n",
      "271/271 [==============================] - 8s 18ms/step - loss: 1.7085 - accuracy: 0.4096 - val_loss: 1.2768 - val_accuracy: 0.6234\n",
      "\n",
      "Epoch 00001: val_loss improved from inf to 1.27677, saving model to data/model_weights/checkpoints/classifier/cp1.ckpt\n",
      "Epoch 2/30\n",
      "271/271 [==============================] - 4s 15ms/step - loss: 1.1264 - accuracy: 0.6273 - val_loss: 1.0823 - val_accuracy: 0.6494\n",
      "\n",
      "Epoch 00002: val_loss improved from 1.27677 to 1.08229, saving model to data/model_weights/checkpoints/classifier/cp1.ckpt\n",
      "Epoch 3/30\n",
      "271/271 [==============================] - 5s 17ms/step - loss: 0.9582 - accuracy: 0.6753 - val_loss: 0.9902 - val_accuracy: 0.7143\n",
      "\n",
      "Epoch 00003: val_loss improved from 1.08229 to 0.99018, saving model to data/model_weights/checkpoints/classifier/cp1.ckpt\n",
      "Epoch 4/30\n",
      "271/271 [==============================] - 4s 15ms/step - loss: 0.9008 - accuracy: 0.6790 - val_loss: 1.0336 - val_accuracy: 0.6623\n",
      "\n",
      "Epoch 00004: val_loss did not improve from 0.99018\n",
      "Epoch 5/30\n",
      "271/271 [==============================] - 4s 14ms/step - loss: 0.7300 - accuracy: 0.7565 - val_loss: 0.9446 - val_accuracy: 0.6883\n",
      "\n",
      "Epoch 00005: val_loss improved from 0.99018 to 0.94457, saving model to data/model_weights/checkpoints/classifier/cp1.ckpt\n",
      "Epoch 6/30\n",
      "271/271 [==============================] - 4s 16ms/step - loss: 0.6756 - accuracy: 0.7860 - val_loss: 0.9143 - val_accuracy: 0.7273\n",
      "\n",
      "Epoch 00006: val_loss improved from 0.94457 to 0.91434, saving model to data/model_weights/checkpoints/classifier/cp1.ckpt\n",
      "Epoch 7/30\n",
      "271/271 [==============================] - 5s 17ms/step - loss: 0.6772 - accuracy: 0.7343 - val_loss: 0.7909 - val_accuracy: 0.7662\n",
      "\n",
      "Epoch 00007: val_loss improved from 0.91434 to 0.79086, saving model to data/model_weights/checkpoints/classifier/cp1.ckpt\n",
      "Epoch 8/30\n",
      "271/271 [==============================] - 4s 15ms/step - loss: 0.5321 - accuracy: 0.8118 - val_loss: 0.8927 - val_accuracy: 0.7532\n",
      "\n",
      "Epoch 00008: val_loss did not improve from 0.79086\n",
      "Epoch 9/30\n",
      "271/271 [==============================] - 4s 15ms/step - loss: 0.5556 - accuracy: 0.8044 - val_loss: 0.8167 - val_accuracy: 0.7662\n",
      "\n",
      "Epoch 00009: val_loss did not improve from 0.79086\n",
      "Epoch 10/30\n",
      "271/271 [==============================] - 4s 15ms/step - loss: 0.4885 - accuracy: 0.8339 - val_loss: 1.0073 - val_accuracy: 0.7532\n",
      "\n",
      "Epoch 00010: val_loss did not improve from 0.79086\n"
     ]
    }
   ],
   "metadata": {}
  },
  {
   "cell_type": "code",
   "execution_count": 123,
   "source": [
    "# Get ordered predictions\n",
    "dest_pred_dict_nn, dest_pred_probs_dict_nn, label_matrix_nn = get_ordered_predictions_nn(mod, test_ds)"
   ],
   "outputs": [],
   "metadata": {}
  },
  {
   "cell_type": "code",
   "execution_count": 124,
   "source": [
    "# Calculate KPI measures\n",
    "a = avg_top_probs(label_matrix_nn, dest_pred_dict_nn, dest_pred_probs_dict_nn)\n",
    "b = in_top_n_kpi(label_matrix_nn, dest_pred_dict_nn, 1)"
   ],
   "outputs": [],
   "metadata": {}
  },
  {
   "cell_type": "markdown",
   "source": [
    "### Graph"
   ],
   "metadata": {}
  },
  {
   "cell_type": "code",
   "execution_count": 18,
   "source": [
    "''' IN TOP N FOR GRAPH '''\n",
    "# Get the top n destinations\n",
    "graph_top_dists, _ = get_top_n_graph_predictions(shortened_df, g, 2)\n",
    "graph_top_dists_grid, _ = get_top_n_graph_predictions(shortened_df, g_grid, 2)\n",
    "\n",
    "# Get the percentage of correct guesses\n",
    "top_n = in_top_n_kpi(label_matrix, graph_top_dists)\n",
    "top_n_grid = in_top_n_kpi(label_matrix, graph_top_dists_grid)\n",
    "\n",
    "print(\"Using calculated WPs: %s, using grid: %s\"%(top_n, top_n_grid))"
   ],
   "outputs": [
    {
     "output_type": "stream",
     "name": "stdout",
     "text": [
      "Using calculated WPs: 63.30749354005169, using grid: 70.28423772609818\n"
     ]
    }
   ],
   "metadata": {}
  },
  {
   "cell_type": "code",
   "execution_count": 127,
   "source": [
    "''' AVG PREDICTION ACC OF LABEL AND ORDERED TOP DESTS '''\n",
    "# Get the top n destinations\n",
    "graph_top_dists, graph_top_dists_probs = get_top_n_graph_predictions(shortened_df, g, 9)\n",
    "\n",
    "avg_top_probs(label_matrix, graph_top_dists, graph_top_dists_probs)"
   ],
   "outputs": [
    {
     "output_type": "error",
     "ename": "NameError",
     "evalue": "name 'get_top_n_graph_predictions' is not defined",
     "traceback": [
      "\u001b[0;31m---------------------------------------------------------------------------\u001b[0m",
      "\u001b[0;31mNameError\u001b[0m                                 Traceback (most recent call last)",
      "\u001b[0;32m<ipython-input-127-4b9e69b34697>\u001b[0m in \u001b[0;36m<module>\u001b[0;34m\u001b[0m\n\u001b[1;32m      1\u001b[0m \u001b[0;34m''' AVG PREDICTION ACC OF LABEL AND ORDERED TOP DESTS '''\u001b[0m\u001b[0;34m\u001b[0m\u001b[0;34m\u001b[0m\u001b[0m\n\u001b[1;32m      2\u001b[0m \u001b[0;31m# Get the top n destinations\u001b[0m\u001b[0;34m\u001b[0m\u001b[0;34m\u001b[0m\u001b[0;34m\u001b[0m\u001b[0m\n\u001b[0;32m----> 3\u001b[0;31m \u001b[0mgraph_top_dists\u001b[0m\u001b[0;34m,\u001b[0m \u001b[0mgraph_top_dists_probs\u001b[0m \u001b[0;34m=\u001b[0m \u001b[0mget_top_n_graph_predictions\u001b[0m\u001b[0;34m(\u001b[0m\u001b[0mshortened_df\u001b[0m\u001b[0;34m,\u001b[0m \u001b[0mg\u001b[0m\u001b[0;34m,\u001b[0m \u001b[0;36m9\u001b[0m\u001b[0;34m)\u001b[0m\u001b[0;34m\u001b[0m\u001b[0;34m\u001b[0m\u001b[0m\n\u001b[0m\u001b[1;32m      4\u001b[0m \u001b[0;34m\u001b[0m\u001b[0m\n\u001b[1;32m      5\u001b[0m \u001b[0mavg_top_probs\u001b[0m\u001b[0;34m(\u001b[0m\u001b[0mlabel_matrix\u001b[0m\u001b[0;34m,\u001b[0m \u001b[0mgraph_top_dists\u001b[0m\u001b[0;34m,\u001b[0m \u001b[0mgraph_top_dists_probs\u001b[0m\u001b[0;34m)\u001b[0m\u001b[0;34m\u001b[0m\u001b[0;34m\u001b[0m\u001b[0m\n",
      "\u001b[0;31mNameError\u001b[0m: name 'get_top_n_graph_predictions' is not defined"
     ]
    }
   ],
   "metadata": {}
  },
  {
   "cell_type": "markdown",
   "source": [
    "# Loop for getting comparison results"
   ],
   "metadata": {}
  },
  {
   "cell_type": "code",
   "execution_count": 153,
   "source": [
    "# Generate labels for the paths and discard paths that do not end near to a destination\n",
    "label_matrix = find_paths_near_destination(scene_data.traj_dataframe, scene_data.destination_matrix, 4, \"agent_id\")\n",
    "label_matrix_no_bad = label_matrix[label_matrix[:,1]!=-1]\n",
    "\n",
    "full_df = scene_data.traj_dataframe\n",
    "num_paths_full_df = len(label_matrix)\n",
    "num_labeled_paths_full_df = len(label_matrix_no_bad)\n",
    "\n",
    "\n",
    "# train the networks on the available data\n",
    "\n",
    "num_paths_avail = [.2, .5, 1.]\n",
    "percentage_of_path_avail = [.1, .3, .7]\n",
    "\n",
    "for paths_avail in num_paths_avail:\n",
    "\n",
    "    shorter_label_matrix = label_matrix_no_bad[:math.ceil(paths_avail*num_paths_full_df)]\n",
    "    shorter_df = return_x_percent_of_paths(full_df, 1., shorter_label_matrix[:,0])\n",
    "    print(\"Label matrix l %s and df l %s\"%(len(shorter_label_matrix), len(shorter_df)))\n",
    "    ''' TRAIN THE GRAPHS '''\n",
    "    # WP graph\n",
    "    interest_points = __return_waypoints_ind()\n",
    "    g = Graph.from_matrices(interest_points, scene_data.destination_matrix, GRAPH_DIST_THRESH, .05)\n",
    "\n",
    "    df_signals = scene_data.df_to_lst_realxy_mats_ext(shorter_df)\n",
    "    g.analyse_multiple_full_signals(df_signals, add_to_trams_mat=True)\n",
    "    g.recalculate_trans_mat_dependencies()\n",
    "\n",
    "    # GRID GRAPH\n",
    "    bound_dict = scene_data.img_bound_dict[('ind', str(11))]\n",
    "    bounds = [bound_dict['x_min'], bound_dict['x_max'], bound_dict['y_min'], bound_dict['y_max']]\n",
    "    g_grid = Graph.from_grid(scene_data.destination_matrix, bounds, 7, GRAPH_DIST_THRESH, .05, keep_orig_dest_loc=True)\n",
    "\n",
    "    df_signals = scene_data.df_to_lst_realxy_mats_ext(shorter_df)\n",
    "    g_grid.analyse_multiple_full_signals(df_signals, add_to_trams_mat=True)\n",
    "\n",
    "    used_wps, used_dests = g_grid.get_used_nodes()\n",
    "\n",
    "    # Now create new graph with only the used nodes\n",
    "    g_grid = Graph.from_matrices(used_wps, used_dests, GRAPH_DIST_THRESH, 0.05) \n",
    "    g_grid.analyse_multiple_full_signals(df_signals, add_to_trams_mat=True)\n",
    "    g_grid.recalculate_trans_mat_dependencies()\n",
    "\n",
    "    ''' TRAIN THE MODEL '''\n",
    "    # Create data sets\n",
    "    train_perc = .7\n",
    "    test_perc = .2\n",
    "    val_perc = .1\n",
    "\n",
    "    num_paths = len(shorter_label_matrix)\n",
    "    num_train = math.ceil(num_paths*train_perc)\n",
    "    num_test = math.ceil(num_paths*test_perc)\n",
    "\n",
    "    lbl_mat_train = shorter_label_matrix[:num_train]\n",
    "    lbl_mat_test = shorter_label_matrix[num_train:num_train+num_test]\n",
    "    lbl_mat_val = shorter_label_matrix[num_train+num_test:]\n",
    "\n",
    "    ds_train = create_dataset(shorter_df, lbl_mat_train, len(scene_data.destination_matrix))    \n",
    "    ds_val = create_dataset(shorter_df, lbl_mat_val, len(scene_data.destination_matrix))\n",
    "\n",
    "    mod = create_classification_model(2, 2, 64, 128, 9)\n",
    "    _ = compile_and_fit(ds_train, ds_val, mod, save_path= save_path)\n",
    "\n",
    "    ''' EVALUATING METHODS FOR %s AVAILABLE OF EACH PATH '''\n",
    "    for path_percentage in percentage_of_path_avail:        \n",
    "        even_shorter_df = return_x_percent_of_paths(shorter_df, path_percentage, shorter_label_matrix[:,0])\n",
    "        # NEURAL NETWORK\n",
    "        ds_test = create_dataset(even_shorter_df, lbl_mat_test, len(scene_data.destination_matrix))\n",
    "        # Get ordered predictions\n",
    "        dest_pred_dict_nn, dest_pred_probs_dict_nn, label_matrix_nn = get_ordered_predictions_nn(mod, ds_test)\n",
    "        # Get KPIs\n",
    "        a = avg_top_probs(label_matrix_nn, dest_pred_dict_nn, dest_pred_probs_dict_nn)\n",
    "        b = in_top_n_kpi(label_matrix_nn, dest_pred_dict_nn, 1)\n",
    "        print(a)\n",
    "        print(b)\n",
    "\n",
    "        # GRAPHS\n",
    "        # Get the top n destinations\n",
    "        graph_top_dists, graph_top_probs = get_top_n_graph_predictions(shortened_df, g, 9)\n",
    "        graph_top_dists_grid, graph_top_probs_grid = get_top_n_graph_predictions(shortened_df, g_grid, 9)\n",
    "\n",
    "        # Get KPIs\n",
    "        top_n_g = in_top_n_kpi(shorter_label_matrix, graph_top_dists, 1)\n",
    "        top_n_g_grid = in_top_n_kpi(shorter_label_matrix, graph_top_dists_grid, 1)\n",
    "\n",
    "        top_probs_g = avg_top_probs(shorter_label_matrix, graph_top_dists, graph_top_probs)\n",
    "        top_probs_g_grid = avg_top_probs(shorter_label_matrix, graph_top_dists_grid, graph_top_probs_grid)\n",
    "        \n",
    "\n"
   ],
   "outputs": [
    {
     "output_type": "stream",
     "name": "stdout",
     "text": [
      "Label matrix l 159 and df l 3931\n",
      "WARNING:tensorflow:`period` argument is deprecated. Please use `save_freq` to specify the frequency in number of batches seen.\n",
      "Epoch 1/30\n",
      "112/112 [==============================] - 7s 30ms/step - loss: 1.4683 - accuracy: 0.4821 - val_loss: 1.6315 - val_accuracy: 0.6000\n",
      "\n",
      "Epoch 00001: val_loss improved from inf to 1.63150, saving model to data/model_weights/checkpoints/classifier/cp1.ckpt\n",
      "Epoch 2/30\n",
      "112/112 [==============================] - 2s 21ms/step - loss: 0.7074 - accuracy: 0.7500 - val_loss: 1.3080 - val_accuracy: 0.6000\n",
      "\n",
      "Epoch 00002: val_loss improved from 1.63150 to 1.30799, saving model to data/model_weights/checkpoints/classifier/cp1.ckpt\n",
      "Epoch 3/30\n",
      "112/112 [==============================] - 2s 21ms/step - loss: 0.5326 - accuracy: 0.8036 - val_loss: 1.2901 - val_accuracy: 0.6000\n",
      "\n",
      "Epoch 00003: val_loss improved from 1.30799 to 1.29014, saving model to data/model_weights/checkpoints/classifier/cp1.ckpt\n",
      "Epoch 4/30\n",
      "112/112 [==============================] - 3s 22ms/step - loss: 0.4766 - accuracy: 0.8482 - val_loss: 1.1481 - val_accuracy: 0.6667\n",
      "\n",
      "Epoch 00004: val_loss improved from 1.29014 to 1.14811, saving model to data/model_weights/checkpoints/classifier/cp1.ckpt\n",
      "Epoch 5/30\n",
      "112/112 [==============================] - 2s 21ms/step - loss: 0.3562 - accuracy: 0.8839 - val_loss: 1.1117 - val_accuracy: 0.6000\n",
      "\n",
      "Epoch 00005: val_loss improved from 1.14811 to 1.11175, saving model to data/model_weights/checkpoints/classifier/cp1.ckpt\n",
      "Epoch 6/30\n",
      "112/112 [==============================] - 2s 22ms/step - loss: 0.2186 - accuracy: 0.9464 - val_loss: 1.0766 - val_accuracy: 0.7333\n",
      "\n",
      "Epoch 00006: val_loss improved from 1.11175 to 1.07664, saving model to data/model_weights/checkpoints/classifier/cp1.ckpt\n",
      "Epoch 7/30\n",
      "112/112 [==============================] - 2s 21ms/step - loss: 0.2982 - accuracy: 0.9375 - val_loss: 1.2911 - val_accuracy: 0.6000\n",
      "\n",
      "Epoch 00007: val_loss did not improve from 1.07664\n",
      "Epoch 8/30\n",
      "112/112 [==============================] - 3s 23ms/step - loss: 0.2648 - accuracy: 0.9375 - val_loss: 0.9973 - val_accuracy: 0.7333\n",
      "\n",
      "Epoch 00008: val_loss improved from 1.07664 to 0.99735, saving model to data/model_weights/checkpoints/classifier/cp1.ckpt\n",
      "Epoch 9/30\n",
      "112/112 [==============================] - 3s 24ms/step - loss: 0.1621 - accuracy: 0.9554 - val_loss: 1.1198 - val_accuracy: 0.7333\n",
      "\n",
      "Epoch 00009: val_loss did not improve from 0.99735\n",
      "Epoch 10/30\n",
      "112/112 [==============================] - 3s 24ms/step - loss: 0.1368 - accuracy: 0.9643 - val_loss: 0.8905 - val_accuracy: 0.7333\n",
      "\n",
      "Epoch 00010: val_loss improved from 0.99735 to 0.89052, saving model to data/model_weights/checkpoints/classifier/cp1.ckpt\n",
      "Epoch 11/30\n",
      "112/112 [==============================] - 2s 22ms/step - loss: 0.1158 - accuracy: 0.9643 - val_loss: 1.0469 - val_accuracy: 0.7333\n",
      "\n",
      "Epoch 00011: val_loss did not improve from 0.89052\n",
      "Epoch 12/30\n",
      "112/112 [==============================] - 2s 21ms/step - loss: 0.1877 - accuracy: 0.9375 - val_loss: 0.8746 - val_accuracy: 0.7333\n",
      "\n",
      "Epoch 00012: val_loss improved from 0.89052 to 0.87460, saving model to data/model_weights/checkpoints/classifier/cp1.ckpt\n",
      "Epoch 13/30\n",
      "112/112 [==============================] - 2s 22ms/step - loss: 0.1103 - accuracy: 0.9464 - val_loss: 0.7373 - val_accuracy: 0.8000\n",
      "\n",
      "Epoch 00013: val_loss improved from 0.87460 to 0.73735, saving model to data/model_weights/checkpoints/classifier/cp1.ckpt\n",
      "Epoch 14/30\n",
      "112/112 [==============================] - 3s 24ms/step - loss: 0.1015 - accuracy: 0.9643 - val_loss: 0.7548 - val_accuracy: 0.8000\n",
      "\n",
      "Epoch 00014: val_loss did not improve from 0.73735\n",
      "Epoch 15/30\n",
      "112/112 [==============================] - 2s 21ms/step - loss: 0.0729 - accuracy: 0.9643 - val_loss: 0.7356 - val_accuracy: 0.8667\n",
      "\n",
      "Epoch 00015: val_loss improved from 0.73735 to 0.73559, saving model to data/model_weights/checkpoints/classifier/cp1.ckpt\n",
      "Epoch 16/30\n",
      "112/112 [==============================] - 3s 22ms/step - loss: 0.0906 - accuracy: 0.9554 - val_loss: 1.0649 - val_accuracy: 0.6667\n",
      "\n",
      "Epoch 00016: val_loss did not improve from 0.73559\n",
      "Epoch 17/30\n",
      "112/112 [==============================] - 3s 23ms/step - loss: 0.0727 - accuracy: 0.9821 - val_loss: 0.7603 - val_accuracy: 0.8667\n",
      "\n",
      "Epoch 00017: val_loss did not improve from 0.73559\n",
      "Epoch 18/30\n",
      "112/112 [==============================] - 2s 22ms/step - loss: 0.0394 - accuracy: 0.9821 - val_loss: 0.8461 - val_accuracy: 0.8667\n",
      "\n",
      "Epoch 00018: val_loss did not improve from 0.73559\n",
      "[0.1354593  0.6637691  0.14329207 0.02378199 0.0117957  0.00841475\n",
      " 0.00626256 0.00404255 0.00318197]\n",
      "15.625\n"
     ]
    },
    {
     "output_type": "error",
     "ename": "AssertionError",
     "evalue": "",
     "traceback": [
      "\u001b[0;31m---------------------------------------------------------------------------\u001b[0m",
      "\u001b[0;31mAssertionError\u001b[0m                            Traceback (most recent call last)",
      "\u001b[0;32m<ipython-input-153-8c8f9be69384>\u001b[0m in \u001b[0;36m<module>\u001b[0;34m\u001b[0m\n\u001b[1;32m     81\u001b[0m \u001b[0;34m\u001b[0m\u001b[0m\n\u001b[1;32m     82\u001b[0m         \u001b[0;31m# Get KPIs\u001b[0m\u001b[0;34m\u001b[0m\u001b[0;34m\u001b[0m\u001b[0;34m\u001b[0m\u001b[0m\n\u001b[0;32m---> 83\u001b[0;31m         \u001b[0mtop_n_g\u001b[0m \u001b[0;34m=\u001b[0m \u001b[0min_top_n_kpi\u001b[0m\u001b[0;34m(\u001b[0m\u001b[0mshorter_label_matrix\u001b[0m\u001b[0;34m,\u001b[0m \u001b[0mgraph_top_dists\u001b[0m\u001b[0;34m,\u001b[0m \u001b[0;36m1\u001b[0m\u001b[0;34m)\u001b[0m\u001b[0;34m\u001b[0m\u001b[0;34m\u001b[0m\u001b[0m\n\u001b[0m\u001b[1;32m     84\u001b[0m         \u001b[0mtop_n_g_grid\u001b[0m \u001b[0;34m=\u001b[0m \u001b[0min_top_n_kpi\u001b[0m\u001b[0;34m(\u001b[0m\u001b[0mshorter_label_matrix\u001b[0m\u001b[0;34m,\u001b[0m \u001b[0mgraph_top_dists_grid\u001b[0m\u001b[0;34m,\u001b[0m \u001b[0;36m1\u001b[0m\u001b[0;34m)\u001b[0m\u001b[0;34m\u001b[0m\u001b[0;34m\u001b[0m\u001b[0m\n\u001b[1;32m     85\u001b[0m \u001b[0;34m\u001b[0m\u001b[0m\n",
      "\u001b[0;32m<ipython-input-142-7014e119b3e2>\u001b[0m in \u001b[0;36min_top_n_kpi\u001b[0;34m(label_matrix, top_n_pred_dict, n)\u001b[0m\n\u001b[1;32m      1\u001b[0m \u001b[0;34m''' Percentage of predictions that has label in top n predictions '''\u001b[0m\u001b[0;34m\u001b[0m\u001b[0;34m\u001b[0m\u001b[0m\n\u001b[1;32m      2\u001b[0m \u001b[0;32mdef\u001b[0m \u001b[0min_top_n_kpi\u001b[0m\u001b[0;34m(\u001b[0m\u001b[0mlabel_matrix\u001b[0m\u001b[0;34m,\u001b[0m \u001b[0mtop_n_pred_dict\u001b[0m\u001b[0;34m,\u001b[0m \u001b[0mn\u001b[0m\u001b[0;34m)\u001b[0m\u001b[0;34m:\u001b[0m\u001b[0;34m\u001b[0m\u001b[0;34m\u001b[0m\u001b[0m\n\u001b[0;32m----> 3\u001b[0;31m     \u001b[0;32massert\u001b[0m \u001b[0mlen\u001b[0m\u001b[0;34m(\u001b[0m\u001b[0mlabel_matrix\u001b[0m\u001b[0;34m)\u001b[0m \u001b[0;34m==\u001b[0m \u001b[0mlen\u001b[0m\u001b[0;34m(\u001b[0m\u001b[0mtop_n_pred_dict\u001b[0m\u001b[0;34m)\u001b[0m\u001b[0;34m\u001b[0m\u001b[0;34m\u001b[0m\u001b[0m\n\u001b[0m\u001b[1;32m      4\u001b[0m     \u001b[0mtotal_predictions\u001b[0m \u001b[0;34m=\u001b[0m \u001b[0mlen\u001b[0m\u001b[0;34m(\u001b[0m\u001b[0mlabel_matrix\u001b[0m\u001b[0;34m)\u001b[0m\u001b[0;34m\u001b[0m\u001b[0;34m\u001b[0m\u001b[0m\n\u001b[1;32m      5\u001b[0m     \u001b[0mcorrect_predictions\u001b[0m \u001b[0;34m=\u001b[0m \u001b[0;36m0\u001b[0m\u001b[0;34m\u001b[0m\u001b[0;34m\u001b[0m\u001b[0m\n",
      "\u001b[0;31mAssertionError\u001b[0m: "
     ]
    }
   ],
   "metadata": {}
  },
  {
   "cell_type": "code",
   "execution_count": 139,
   "source": [
    "dest_pred_dict_nn"
   ],
   "outputs": [
    {
     "output_type": "execute_result",
     "data": {
      "text/plain": [
       "{0: array([[4, 3, 7, 8, 6, 5, 2, 0, 1]], dtype=int32),\n",
       " 1: array([[7, 4, 3, 8, 6, 0, 5, 2, 1]], dtype=int32),\n",
       " 2: array([[4, 3, 7, 8, 2, 1, 0, 5, 6]], dtype=int32),\n",
       " 3: array([[8, 3, 4, 7, 5, 2, 6, 0, 1]], dtype=int32),\n",
       " 4: array([[4, 3, 7, 8, 2, 1, 0, 6, 5]], dtype=int32),\n",
       " 5: array([[7, 4, 3, 8, 6, 0, 5, 2, 1]], dtype=int32),\n",
       " 6: array([[7, 4, 3, 8, 6, 0, 2, 5, 1]], dtype=int32),\n",
       " 7: array([[4, 3, 7, 8, 2, 1, 0, 6, 5]], dtype=int32),\n",
       " 8: array([[7, 4, 3, 8, 6, 0, 5, 2, 1]], dtype=int32),\n",
       " 9: array([[7, 4, 8, 3, 0, 6, 2, 5, 1]], dtype=int32),\n",
       " 10: array([[4, 3, 8, 7, 2, 5, 1, 6, 0]], dtype=int32),\n",
       " 11: array([[4, 3, 7, 8, 2, 1, 0, 6, 5]], dtype=int32),\n",
       " 12: array([[7, 4, 3, 8, 6, 0, 2, 5, 1]], dtype=int32),\n",
       " 13: array([[7, 4, 3, 8, 6, 0, 5, 2, 1]], dtype=int32),\n",
       " 14: array([[3, 4, 8, 7, 6, 5, 1, 2, 0]], dtype=int32),\n",
       " 15: array([[4, 7, 3, 8, 0, 2, 6, 5, 1]], dtype=int32),\n",
       " 16: array([[3, 4, 8, 7, 2, 5, 6, 1, 0]], dtype=int32),\n",
       " 17: array([[4, 3, 7, 8, 2, 1, 0, 6, 5]], dtype=int32),\n",
       " 18: array([[7, 4, 3, 8, 6, 0, 5, 2, 1]], dtype=int32),\n",
       " 19: array([[7, 4, 3, 8, 6, 0, 5, 2, 1]], dtype=int32),\n",
       " 20: array([[7, 4, 3, 8, 6, 0, 5, 2, 1]], dtype=int32),\n",
       " 21: array([[7, 4, 3, 8, 6, 0, 5, 2, 1]], dtype=int32),\n",
       " 22: array([[3, 4, 8, 7, 2, 5, 6, 1, 0]], dtype=int32),\n",
       " 23: array([[7, 4, 3, 8, 6, 0, 2, 5, 1]], dtype=int32),\n",
       " 24: array([[4, 7, 3, 8, 0, 6, 2, 5, 1]], dtype=int32),\n",
       " 25: array([[4, 3, 7, 8, 2, 0, 1, 6, 5]], dtype=int32),\n",
       " 26: array([[4, 3, 7, 8, 2, 6, 0, 1, 5]], dtype=int32),\n",
       " 27: array([[4, 3, 7, 8, 2, 1, 0, 6, 5]], dtype=int32),\n",
       " 28: array([[7, 4, 8, 3, 0, 6, 2, 5, 1]], dtype=int32),\n",
       " 29: array([[7, 4, 3, 8, 6, 0, 5, 2, 1]], dtype=int32),\n",
       " 30: array([[3, 4, 8, 7, 2, 5, 6, 1, 0]], dtype=int32),\n",
       " 31: array([[4, 7, 3, 8, 0, 6, 2, 5, 1]], dtype=int32),\n",
       " 32: array([[4, 3, 7, 8, 2, 0, 1, 6, 5]], dtype=int32),\n",
       " 33: array([[7, 4, 3, 8, 6, 0, 5, 2, 1]], dtype=int32),\n",
       " 34: array([[4, 3, 7, 8, 2, 1, 0, 6, 5]], dtype=int32),\n",
       " 35: array([[7, 4, 3, 8, 6, 0, 5, 2, 1]], dtype=int32),\n",
       " 36: array([[4, 3, 7, 8, 2, 1, 6, 5, 0]], dtype=int32),\n",
       " 37: array([[4, 3, 7, 8, 2, 0, 1, 6, 5]], dtype=int32),\n",
       " 38: array([[7, 4, 3, 8, 6, 0, 2, 5, 1]], dtype=int32),\n",
       " 39: array([[3, 4, 8, 7, 1, 5, 6, 2, 0]], dtype=int32),\n",
       " 40: array([[4, 3, 7, 8, 2, 1, 0, 6, 5]], dtype=int32),\n",
       " 41: array([[4, 3, 7, 8, 2, 1, 0, 6, 5]], dtype=int32),\n",
       " 42: array([[4, 3, 7, 8, 2, 1, 0, 6, 5]], dtype=int32),\n",
       " 43: array([[4, 3, 7, 8, 2, 1, 0, 6, 5]], dtype=int32),\n",
       " 44: array([[3, 4, 8, 7, 2, 5, 6, 1, 0]], dtype=int32),\n",
       " 45: array([[4, 3, 8, 7, 2, 5, 6, 1, 0]], dtype=int32),\n",
       " 46: array([[8, 3, 4, 7, 5, 2, 6, 0, 1]], dtype=int32),\n",
       " 47: array([[3, 4, 8, 7, 2, 5, 6, 1, 0]], dtype=int32),\n",
       " 48: array([[4, 3, 7, 8, 2, 1, 0, 6, 5]], dtype=int32),\n",
       " 49: array([[4, 7, 3, 8, 0, 6, 2, 5, 1]], dtype=int32),\n",
       " 50: array([[4, 3, 7, 8, 2, 1, 0, 6, 5]], dtype=int32),\n",
       " 51: array([[7, 4, 8, 3, 0, 6, 2, 5, 1]], dtype=int32),\n",
       " 52: array([[7, 4, 3, 8, 6, 0, 2, 5, 1]], dtype=int32),\n",
       " 53: array([[4, 3, 7, 8, 2, 1, 0, 6, 5]], dtype=int32),\n",
       " 54: array([[3, 4, 8, 7, 2, 5, 6, 1, 0]], dtype=int32),\n",
       " 55: array([[7, 4, 3, 8, 0, 6, 2, 5, 1]], dtype=int32),\n",
       " 56: array([[3, 4, 8, 7, 2, 5, 6, 1, 0]], dtype=int32),\n",
       " 57: array([[4, 3, 7, 8, 2, 1, 0, 6, 5]], dtype=int32),\n",
       " 58: array([[4, 3, 7, 8, 2, 1, 0, 6, 5]], dtype=int32),\n",
       " 59: array([[3, 4, 8, 7, 2, 5, 6, 1, 0]], dtype=int32),\n",
       " 60: array([[3, 4, 8, 7, 2, 5, 1, 6, 0]], dtype=int32),\n",
       " 61: array([[7, 4, 8, 3, 0, 6, 2, 5, 1]], dtype=int32),\n",
       " 62: array([[3, 4, 8, 7, 2, 5, 1, 6, 0]], dtype=int32),\n",
       " 63: array([[7, 4, 3, 8, 0, 6, 2, 5, 1]], dtype=int32),\n",
       " 64: array([[4, 3, 7, 8, 2, 1, 0, 6, 5]], dtype=int32),\n",
       " 65: array([[4, 3, 7, 8, 2, 1, 0, 6, 5]], dtype=int32),\n",
       " 66: array([[4, 3, 7, 8, 2, 1, 0, 6, 5]], dtype=int32),\n",
       " 67: array([[7, 4, 3, 8, 6, 0, 5, 2, 1]], dtype=int32),\n",
       " 68: array([[7, 4, 3, 8, 6, 0, 5, 2, 1]], dtype=int32),\n",
       " 69: array([[7, 4, 3, 8, 6, 0, 2, 5, 1]], dtype=int32),\n",
       " 70: array([[7, 4, 3, 8, 6, 0, 2, 5, 1]], dtype=int32),\n",
       " 71: array([[7, 4, 3, 8, 6, 0, 2, 5, 1]], dtype=int32),\n",
       " 72: array([[3, 8, 4, 7, 5, 2, 6, 0, 1]], dtype=int32),\n",
       " 73: array([[4, 3, 7, 8, 2, 1, 0, 6, 5]], dtype=int32),\n",
       " 74: array([[7, 4, 3, 8, 6, 0, 2, 5, 1]], dtype=int32),\n",
       " 75: array([[4, 3, 7, 8, 2, 1, 0, 6, 5]], dtype=int32),\n",
       " 76: array([[7, 4, 3, 8, 6, 0, 5, 2, 1]], dtype=int32)}"
      ]
     },
     "metadata": {},
     "execution_count": 139
    }
   ],
   "metadata": {}
  },
  {
   "cell_type": "code",
   "execution_count": null,
   "source": [],
   "outputs": [],
   "metadata": {}
  }
 ],
 "metadata": {
  "interpreter": {
   "hash": "670cfe7939475ebb968c924b13a14a1c26d345d90444bab171f80d257de98d85"
  },
  "kernelspec": {
   "display_name": "Python 3.8.5 64-bit ('thesis_basic': conda)",
   "name": "python3"
  },
  "language_info": {
   "codemirror_mode": {
    "name": "ipython",
    "version": 3
   },
   "file_extension": ".py",
   "mimetype": "text/x-python",
   "name": "python",
   "nbconvert_exporter": "python",
   "pygments_lexer": "ipython3",
   "version": "3.8.5"
  },
  "orig_nbformat": 4
 },
 "nbformat": 4,
 "nbformat_minor": 2
}