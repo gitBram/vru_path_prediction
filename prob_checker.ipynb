{
 "metadata": {
  "language_info": {
   "codemirror_mode": {
    "name": "ipython",
    "version": 3
   },
   "file_extension": ".py",
   "mimetype": "text/x-python",
   "name": "python",
   "nbconvert_exporter": "python",
   "pygments_lexer": "ipython3",
   "version": "3.8.5"
  },
  "orig_nbformat": 2,
  "kernelspec": {
   "name": "python385jvsc74a57bd0670cfe7939475ebb968c924b13a14a1c26d345d90444bab171f80d257de98d85",
   "display_name": "Python 3.8.5 64-bit ('thesis_basic': conda)"
  },
  "metadata": {
   "interpreter": {
    "hash": "670cfe7939475ebb968c924b13a14a1c26d345d90444bab171f80d257de98d85"
   }
  }
 },
 "nbformat": 4,
 "nbformat_minor": 2,
 "cells": [
  {
   "cell_type": "code",
   "execution_count": 25,
   "metadata": {},
   "outputs": [],
   "source": [
    "import pickle\n",
    "import numpy as np\n",
    "\n",
    "with open('data/pickle/mat.pickle', 'rb') as handle:\n",
    "    mats = pickle.load(handle)\n",
    "with open('data/pickle/dict.pickle', 'rb') as handle:\n",
    "    d = pickle.load(handle)\n",
    "\n",
    "m = mats[1]"
   ]
  },
  {
   "cell_type": "code",
   "execution_count": 26,
   "metadata": {},
   "outputs": [],
   "source": [
    "def retrieve_trans_prob(s, d, my_dict, mat):\n",
    "    s_id = my_dict[s]\n",
    "    d_id = my_dict[d]\n",
    "\n",
    "    return mat[s_id, d_id]\n"
   ]
  },
  {
   "cell_type": "code",
   "execution_count": 27,
   "metadata": {},
   "outputs": [
    {
     "output_type": "stream",
     "name": "stdout",
     "text": [
      "0.4\n0.0\n0.0861038961038961\n0.02007102272727273\n0.03982447855175128\n0.02327946396396769\n0.030335378928548453\n0.021463200689380797\n0.025165695827446544\n"
     ]
    }
   ],
   "source": [
    "for i in range(1, len(mats.values())+1):\n",
    "    m = mats[i]\n",
    "    print(retrieve_trans_prob('wb', 'w6', d, m))\n",
    "\n",
    "\n"
   ]
  },
  {
   "cell_type": "code",
   "execution_count": 8,
   "metadata": {},
   "outputs": [
    {
     "output_type": "execute_result",
     "data": {
      "text/plain": [
       "0.010185892538833714"
      ]
     },
     "metadata": {},
     "execution_count": 8
    }
   ],
   "source": [
    "0.2857142857142857*0.45454545454545453*0.3333333333333333*0.23529411764705882\n"
   ]
  },
  {
   "cell_type": "code",
   "execution_count": null,
   "metadata": {},
   "outputs": [],
   "source": []
  }
 ]
}